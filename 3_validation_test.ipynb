{
 "cells": [
  {
   "cell_type": "code",
   "execution_count": 1,
   "metadata": {},
   "outputs": [
    {
     "name": "stderr",
     "output_type": "stream",
     "text": [
      "Warning : `load_model` does not return WordVectorModel or SupervisedModel any more, but a `FastText` object which is very similar.\n"
     ]
    }
   ],
   "source": [
    "import fasttext\n",
    "import pandas as pd\n",
    "model = fasttext.load_model(\"./model/ICD10.bin\")\n",
    "\n",
    "#text preprocessing\n",
    "import nltk\n",
    "from nltk.corpus import stopwords\n",
    "from nltk.stem import PorterStemmer\n",
    "from nltk.stem import WordNetLemmatizer\n",
    "import string"
   ]
  },
  {
   "cell_type": "code",
   "execution_count": 6,
   "metadata": {},
   "outputs": [],
   "source": [
    "#text preprocessing\n",
    "def prepare_text(df):\n",
    "    df['prepare_term'] = df['term'].str.lower()\n",
    "    df['tokens'] = df['prepare_term'].apply(nltk.word_tokenize)\n",
    "    df['no_punct_text'] = df['prepare_term'].str.translate(str.maketrans('', '', string.punctuation))\n",
    "    stop_words = set(stopwords.words('english'))\n",
    "    df['filtered_text'] = df['no_punct_text'].apply(lambda x: \" \".join(word for word in x.split() if word.lower() not in stop_words))\n",
    "    stemmer = PorterStemmer()\n",
    "    df['stemmed_text'] = df['filtered_text'].apply(lambda x: \" \".join(stemmer.stem(word) for word in x.split()))\n",
    "    lemmatizer = WordNetLemmatizer()\n",
    "    df['lemmatized_text'] = df['stemmed_text'].apply(lambda x: \" \".join(lemmatizer.lemmatize(word) for word in x.split()))\n",
    "    new_df = df[['lemmatized_text']].copy()\n",
    "    return new_df"
   ]
  },
  {
   "attachments": {},
   "cell_type": "markdown",
   "metadata": {},
   "source": [
    "ระบุ Path file ของ Validation set"
   ]
  },
  {
   "cell_type": "code",
   "execution_count": 3,
   "metadata": {},
   "outputs": [],
   "source": [
    "filename = './data/dataset.tsv'"
   ]
  },
  {
   "cell_type": "code",
   "execution_count": 7,
   "metadata": {},
   "outputs": [
    {
     "data": {
      "text/html": [
       "<div>\n",
       "<style scoped>\n",
       "    .dataframe tbody tr th:only-of-type {\n",
       "        vertical-align: middle;\n",
       "    }\n",
       "\n",
       "    .dataframe tbody tr th {\n",
       "        vertical-align: top;\n",
       "    }\n",
       "\n",
       "    .dataframe thead th {\n",
       "        text-align: right;\n",
       "    }\n",
       "</style>\n",
       "<table border=\"1\" class=\"dataframe\">\n",
       "  <thead>\n",
       "    <tr style=\"text-align: right;\">\n",
       "      <th></th>\n",
       "      <th>lemmatized_text</th>\n",
       "    </tr>\n",
       "  </thead>\n",
       "  <tbody>\n",
       "    <tr>\n",
       "      <th>0</th>\n",
       "      <td>infect caus staphylococcu coagulas neg</td>\n",
       "    </tr>\n",
       "    <tr>\n",
       "      <th>1</th>\n",
       "      <td>infect due staphylococcu coagulas neg</td>\n",
       "    </tr>\n",
       "    <tr>\n",
       "      <th>2</th>\n",
       "      <td>fetal infect caus staphylococcu aureu</td>\n",
       "    </tr>\n",
       "    <tr>\n",
       "      <th>3</th>\n",
       "      <td>earli neonat infect caus staphylococcu aureu</td>\n",
       "    </tr>\n",
       "    <tr>\n",
       "      <th>4</th>\n",
       "      <td>bacteremia caus methicillin resist staphylococ...</td>\n",
       "    </tr>\n",
       "    <tr>\n",
       "      <th>...</th>\n",
       "      <td>...</td>\n",
       "    </tr>\n",
       "    <tr>\n",
       "      <th>16563</th>\n",
       "      <td>atherosclerosi aortoiliac bypass graft</td>\n",
       "    </tr>\n",
       "    <tr>\n",
       "      <th>16564</th>\n",
       "      <td>atherosclerosi aortoiliac bypass graft</td>\n",
       "    </tr>\n",
       "    <tr>\n",
       "      <th>16565</th>\n",
       "      <td>peripher nerv neurostimul devic situ</td>\n",
       "    </tr>\n",
       "    <tr>\n",
       "      <th>16566</th>\n",
       "      <td>peripher nerv neuropacemak situ</td>\n",
       "    </tr>\n",
       "    <tr>\n",
       "      <th>16567</th>\n",
       "      <td>multipl intracardiac shunt</td>\n",
       "    </tr>\n",
       "  </tbody>\n",
       "</table>\n",
       "<p>16568 rows × 1 columns</p>\n",
       "</div>"
      ],
      "text/plain": [
       "                                         lemmatized_text\n",
       "0                 infect caus staphylococcu coagulas neg\n",
       "1                  infect due staphylococcu coagulas neg\n",
       "2                  fetal infect caus staphylococcu aureu\n",
       "3           earli neonat infect caus staphylococcu aureu\n",
       "4      bacteremia caus methicillin resist staphylococ...\n",
       "...                                                  ...\n",
       "16563             atherosclerosi aortoiliac bypass graft\n",
       "16564             atherosclerosi aortoiliac bypass graft\n",
       "16565               peripher nerv neurostimul devic situ\n",
       "16566                    peripher nerv neuropacemak situ\n",
       "16567                         multipl intracardiac shunt\n",
       "\n",
       "[16568 rows x 1 columns]"
      ]
     },
     "execution_count": 7,
     "metadata": {},
     "output_type": "execute_result"
    }
   ],
   "source": [
    "#Validation set\n",
    "validation_tsv = pd.read_csv(filename,sep='\\t')\n",
    "prepared_val = prepare_text(validation_tsv)\n",
    "prepared_val"
   ]
  },
  {
   "cell_type": "code",
   "execution_count": 8,
   "metadata": {},
   "outputs": [
    {
     "data": {
      "text/html": [
       "<div>\n",
       "<style scoped>\n",
       "    .dataframe tbody tr th:only-of-type {\n",
       "        vertical-align: middle;\n",
       "    }\n",
       "\n",
       "    .dataframe tbody tr th {\n",
       "        vertical-align: top;\n",
       "    }\n",
       "\n",
       "    .dataframe thead th {\n",
       "        text-align: right;\n",
       "    }\n",
       "</style>\n",
       "<table border=\"1\" class=\"dataframe\">\n",
       "  <thead>\n",
       "    <tr style=\"text-align: right;\">\n",
       "      <th></th>\n",
       "      <th>term</th>\n",
       "      <th>codePredict</th>\n",
       "    </tr>\n",
       "  </thead>\n",
       "  <tbody>\n",
       "    <tr>\n",
       "      <th>0</th>\n",
       "      <td>infection caused by Staphylococcus Coagulase n...</td>\n",
       "      <td>A49.0</td>\n",
       "    </tr>\n",
       "    <tr>\n",
       "      <th>1</th>\n",
       "      <td>infection due to Staphylococcus Coagulase nega...</td>\n",
       "      <td>A49.0</td>\n",
       "    </tr>\n",
       "    <tr>\n",
       "      <th>2</th>\n",
       "      <td>fetal infection caused by Staphylococcus aureus</td>\n",
       "      <td>A49.0</td>\n",
       "    </tr>\n",
       "    <tr>\n",
       "      <th>3</th>\n",
       "      <td>early neonatal infection caused by Staphylococ...</td>\n",
       "      <td>A49.0</td>\n",
       "    </tr>\n",
       "    <tr>\n",
       "      <th>4</th>\n",
       "      <td>bacteremia caused by Methicillin resistant Sta...</td>\n",
       "      <td>A49.0</td>\n",
       "    </tr>\n",
       "    <tr>\n",
       "      <th>...</th>\n",
       "      <td>...</td>\n",
       "      <td>...</td>\n",
       "    </tr>\n",
       "    <tr>\n",
       "      <th>16563</th>\n",
       "      <td>atherosclerosis of aortoiliac bypass graft</td>\n",
       "      <td>Z95.8</td>\n",
       "    </tr>\n",
       "    <tr>\n",
       "      <th>16564</th>\n",
       "      <td>atherosclerosis aortoiliac bypass graft</td>\n",
       "      <td>Z95.8</td>\n",
       "    </tr>\n",
       "    <tr>\n",
       "      <th>16565</th>\n",
       "      <td>peripheral nerve neurostimulator device in situ</td>\n",
       "      <td>Z95.8</td>\n",
       "    </tr>\n",
       "    <tr>\n",
       "      <th>16566</th>\n",
       "      <td>peripheral nerve neuropacemaker in situ</td>\n",
       "      <td>Z95.8</td>\n",
       "    </tr>\n",
       "    <tr>\n",
       "      <th>16567</th>\n",
       "      <td>multiple intracardiac shunts</td>\n",
       "      <td>Z95.8</td>\n",
       "    </tr>\n",
       "  </tbody>\n",
       "</table>\n",
       "<p>16568 rows × 2 columns</p>\n",
       "</div>"
      ],
      "text/plain": [
       "                                                    term codePredict\n",
       "0      infection caused by Staphylococcus Coagulase n...       A49.0\n",
       "1      infection due to Staphylococcus Coagulase nega...       A49.0\n",
       "2        fetal infection caused by Staphylococcus aureus       A49.0\n",
       "3      early neonatal infection caused by Staphylococ...       A49.0\n",
       "4      bacteremia caused by Methicillin resistant Sta...       A49.0\n",
       "...                                                  ...         ...\n",
       "16563         atherosclerosis of aortoiliac bypass graft       Z95.8\n",
       "16564            atherosclerosis aortoiliac bypass graft       Z95.8\n",
       "16565    peripheral nerve neurostimulator device in situ       Z95.8\n",
       "16566            peripheral nerve neuropacemaker in situ       Z95.8\n",
       "16567                       multiple intracardiac shunts       Z95.8\n",
       "\n",
       "[16568 rows x 2 columns]"
      ]
     },
     "execution_count": 8,
     "metadata": {},
     "output_type": "execute_result"
    }
   ],
   "source": [
    "#Predict\n",
    "predict = model.predict(prepared_val['lemmatized_text'].to_list())\n",
    "result = pd.DataFrame({'term':validation_tsv['term'].to_list(),\n",
    "                       'codePredict':[p[0].strip('__label__') for p in predict[0]]})\n",
    "result"
   ]
  }
 ],
 "metadata": {
  "kernelspec": {
   "display_name": "mlp",
   "language": "python",
   "name": "python3"
  },
  "language_info": {
   "codemirror_mode": {
    "name": "ipython",
    "version": 3
   },
   "file_extension": ".py",
   "mimetype": "text/x-python",
   "name": "python",
   "nbconvert_exporter": "python",
   "pygments_lexer": "ipython3",
   "version": "3.8.15"
  },
  "orig_nbformat": 4
 },
 "nbformat": 4,
 "nbformat_minor": 2
}
