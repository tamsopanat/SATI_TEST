{
 "cells": [
  {
   "cell_type": "code",
   "execution_count": 1,
   "metadata": {},
   "outputs": [],
   "source": [
    "import fasttext\n",
    "import pandas as pd"
   ]
  },
  {
   "cell_type": "code",
   "execution_count": 14,
   "metadata": {},
   "outputs": [
    {
     "name": "stderr",
     "output_type": "stream",
     "text": [
      "Read 0M words\n",
      "Number of words:  7867\n",
      "Number of labels: 100\n",
      "Progress: 100.0% words/sec/thread:  994277 lr:  0.000000 avg.loss:  0.354764 ETA:   0h 0m 0s\n"
     ]
    }
   ],
   "source": [
    "# Define the training parameters\n",
    "lr = 0.01  # learning rate\n",
    "dim = 5  # dimension of word vectors\n",
    "epoch = 500  # number of training epochs\n",
    "min_count = 1  # minimum number of word occurrences\n",
    "\n",
    "# Train the FastText classifier\n",
    "model = fasttext.train_supervised('train.txt', lr=lr, dim=dim, epoch=epoch, minCount=min_count)"
   ]
  },
  {
   "cell_type": "code",
   "execution_count": 15,
   "metadata": {},
   "outputs": [
    {
     "name": "stdout",
     "output_type": "stream",
     "text": [
      "Test accuracy: 0.84\n"
     ]
    }
   ],
   "source": [
    "# Evaluate the model on test data\n",
    "result = model.test('test.txt')\n",
    "print(f\"Test accuracy: {result[1]:.2f}\")"
   ]
  },
  {
   "cell_type": "code",
   "execution_count": 16,
   "metadata": {},
   "outputs": [
    {
     "data": {
      "text/html": [
       "<div>\n",
       "<style scoped>\n",
       "    .dataframe tbody tr th:only-of-type {\n",
       "        vertical-align: middle;\n",
       "    }\n",
       "\n",
       "    .dataframe tbody tr th {\n",
       "        vertical-align: top;\n",
       "    }\n",
       "\n",
       "    .dataframe thead th {\n",
       "        text-align: right;\n",
       "    }\n",
       "</style>\n",
       "<table border=\"1\" class=\"dataframe\">\n",
       "  <thead>\n",
       "    <tr style=\"text-align: right;\">\n",
       "      <th></th>\n",
       "      <th>term</th>\n",
       "      <th>codeActual</th>\n",
       "      <th>codePredict</th>\n",
       "      <th>prob</th>\n",
       "    </tr>\n",
       "  </thead>\n",
       "  <tbody>\n",
       "    <tr>\n",
       "      <th>0</th>\n",
       "      <td>bidirect cardiac shunt</td>\n",
       "      <td>R09.8</td>\n",
       "      <td>R09.8</td>\n",
       "      <td>0.99</td>\n",
       "    </tr>\n",
       "    <tr>\n",
       "      <th>0</th>\n",
       "      <td>cognit impair due lead toxic</td>\n",
       "      <td>X49.99</td>\n",
       "      <td>X49.99</td>\n",
       "      <td>0.91</td>\n",
       "    </tr>\n",
       "    <tr>\n",
       "      <th>0</th>\n",
       "      <td>aphalangi hemivertebra urogenit intestin dysge...</td>\n",
       "      <td>Q87.8</td>\n",
       "      <td>Q76.4</td>\n",
       "      <td>0.93</td>\n",
       "    </tr>\n",
       "    <tr>\n",
       "      <th>0</th>\n",
       "      <td>horizont doll head reflex absent</td>\n",
       "      <td>R29.2</td>\n",
       "      <td>R29.2</td>\n",
       "      <td>0.89</td>\n",
       "    </tr>\n",
       "    <tr>\n",
       "      <th>0</th>\n",
       "      <td>infect abras right upper arm</td>\n",
       "      <td>L08.9</td>\n",
       "      <td>L08.9</td>\n",
       "      <td>0.99</td>\n",
       "    </tr>\n",
       "    <tr>\n",
       "      <th>...</th>\n",
       "      <td>...</td>\n",
       "      <td>...</td>\n",
       "      <td>...</td>\n",
       "      <td>...</td>\n",
       "    </tr>\n",
       "    <tr>\n",
       "      <th>0</th>\n",
       "      <td>prematur age appear development delay cardiac ...</td>\n",
       "      <td>Q87.8</td>\n",
       "      <td>Q87.8</td>\n",
       "      <td>0.74</td>\n",
       "    </tr>\n",
       "    <tr>\n",
       "      <th>0</th>\n",
       "      <td>azotem onychopathi</td>\n",
       "      <td>L60.8</td>\n",
       "      <td>L60.8</td>\n",
       "      <td>0.64</td>\n",
       "    </tr>\n",
       "    <tr>\n",
       "      <th>0</th>\n",
       "      <td>accident mustin poison</td>\n",
       "      <td>T45.1</td>\n",
       "      <td>T45.1</td>\n",
       "      <td>0.56</td>\n",
       "    </tr>\n",
       "    <tr>\n",
       "      <th>0</th>\n",
       "      <td>poison thiabendazol</td>\n",
       "      <td>X44.99</td>\n",
       "      <td>X44.99</td>\n",
       "      <td>0.99</td>\n",
       "    </tr>\n",
       "    <tr>\n",
       "      <th>0</th>\n",
       "      <td>accident fluvoxamin poison</td>\n",
       "      <td>X41.99</td>\n",
       "      <td>X41.99</td>\n",
       "      <td>0.96</td>\n",
       "    </tr>\n",
       "  </tbody>\n",
       "</table>\n",
       "<p>1657 rows × 4 columns</p>\n",
       "</div>"
      ],
      "text/plain": [
       "                                                 term codeActual codePredict  \\\n",
       "0                              bidirect cardiac shunt      R09.8       R09.8   \n",
       "0                        cognit impair due lead toxic     X49.99      X49.99   \n",
       "0   aphalangi hemivertebra urogenit intestin dysge...      Q87.8       Q76.4   \n",
       "0                    horizont doll head reflex absent      R29.2       R29.2   \n",
       "0                        infect abras right upper arm      L08.9       L08.9   \n",
       "..                                                ...        ...         ...   \n",
       "0   prematur age appear development delay cardiac ...      Q87.8       Q87.8   \n",
       "0                                  azotem onychopathi      L60.8       L60.8   \n",
       "0                              accident mustin poison      T45.1       T45.1   \n",
       "0                                 poison thiabendazol     X44.99      X44.99   \n",
       "0                          accident fluvoxamin poison     X41.99      X41.99   \n",
       "\n",
       "    prob  \n",
       "0   0.99  \n",
       "0   0.91  \n",
       "0   0.93  \n",
       "0   0.89  \n",
       "0   0.99  \n",
       "..   ...  \n",
       "0   0.74  \n",
       "0   0.64  \n",
       "0   0.56  \n",
       "0   0.99  \n",
       "0   0.96  \n",
       "\n",
       "[1657 rows x 4 columns]"
      ]
     },
     "execution_count": 16,
     "metadata": {},
     "output_type": "execute_result"
    }
   ],
   "source": [
    "f = open(\"test.txt\", \"r\")\n",
    "test_result = pd.DataFrame(columns=['term', 'codeActual', 'codePredict'])\n",
    "for i in f.read().split('\\n'):\n",
    "    if i == '':\n",
    "        break\n",
    "    term = i.split(' __label__')[0]\n",
    "    code = i.split(' __label__')[1]\n",
    "    temp = pd.DataFrame({'term':term,\n",
    "                         'codeActual':code,\n",
    "                         'codePredict':[model.predict(term)[0][0].strip('__label__')],\n",
    "                         'prob':[str(model.predict(term)[1][0])[:4]]})\n",
    "    test_result = pd.concat([test_result, temp])\n",
    "test_result"
   ]
  },
  {
   "cell_type": "code",
   "execution_count": 29,
   "metadata": {},
   "outputs": [],
   "source": [
    "#Save model for validation set\n",
    "model.save_model(\"ICD10.bin\")"
   ]
  }
 ],
 "metadata": {
  "kernelspec": {
   "display_name": "mlp",
   "language": "python",
   "name": "python3"
  },
  "language_info": {
   "codemirror_mode": {
    "name": "ipython",
    "version": 3
   },
   "file_extension": ".py",
   "mimetype": "text/x-python",
   "name": "python",
   "nbconvert_exporter": "python",
   "pygments_lexer": "ipython3",
   "version": "3.8.15"
  },
  "orig_nbformat": 4
 },
 "nbformat": 4,
 "nbformat_minor": 2
}
