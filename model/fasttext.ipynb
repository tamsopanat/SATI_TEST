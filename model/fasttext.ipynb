{
 "cells": [
  {
   "cell_type": "code",
   "execution_count": 25,
   "metadata": {},
   "outputs": [],
   "source": [
    "import fasttext\n",
    "import pandas as pd"
   ]
  },
  {
   "cell_type": "code",
   "execution_count": 26,
   "metadata": {},
   "outputs": [
    {
     "name": "stderr",
     "output_type": "stream",
     "text": [
      "Read 0M words\n",
      "Number of words:  7388\n",
      "Number of labels: 100\n",
      "Progress: 100.0% words/sec/thread:  814031 lr:  0.000000 avg.loss:  0.236028 ETA:   0h 0m 0s\n"
     ]
    }
   ],
   "source": [
    "# Define the training parameters\n",
    "lr = 0.1  # learning rate\n",
    "dim = 5  # dimension of word vectors\n",
    "epoch = 100  # number of training epochs\n",
    "min_count = 1  # minimum number of word occurrences\n",
    "\n",
    "# Train the FastText classifier\n",
    "model = fasttext.train_supervised('train.txt', lr=lr, dim=dim, epoch=epoch, minCount=min_count)"
   ]
  },
  {
   "cell_type": "code",
   "execution_count": 27,
   "metadata": {},
   "outputs": [
    {
     "name": "stdout",
     "output_type": "stream",
     "text": [
      "Test accuracy: 0.81\n"
     ]
    }
   ],
   "source": [
    "# Evaluate the model on test data\n",
    "result = model.test('test.txt')\n",
    "print(f\"Test accuracy: {result[1]:.2f}\")"
   ]
  },
  {
   "cell_type": "code",
   "execution_count": 28,
   "metadata": {},
   "outputs": [
    {
     "data": {
      "text/html": [
       "<div>\n",
       "<style scoped>\n",
       "    .dataframe tbody tr th:only-of-type {\n",
       "        vertical-align: middle;\n",
       "    }\n",
       "\n",
       "    .dataframe tbody tr th {\n",
       "        vertical-align: top;\n",
       "    }\n",
       "\n",
       "    .dataframe thead th {\n",
       "        text-align: right;\n",
       "    }\n",
       "</style>\n",
       "<table border=\"1\" class=\"dataframe\">\n",
       "  <thead>\n",
       "    <tr style=\"text-align: right;\">\n",
       "      <th></th>\n",
       "      <th>term</th>\n",
       "      <th>codeActual</th>\n",
       "      <th>codePredict</th>\n",
       "      <th>prob</th>\n",
       "    </tr>\n",
       "  </thead>\n",
       "  <tbody>\n",
       "    <tr>\n",
       "      <th>0</th>\n",
       "      <td>bidirect cardiac shunt</td>\n",
       "      <td>R09.8</td>\n",
       "      <td>R09.8</td>\n",
       "      <td>0.80</td>\n",
       "    </tr>\n",
       "    <tr>\n",
       "      <th>0</th>\n",
       "      <td>cognit impair due lead toxic</td>\n",
       "      <td>X49.99</td>\n",
       "      <td>X49.99</td>\n",
       "      <td>0.99</td>\n",
       "    </tr>\n",
       "    <tr>\n",
       "      <th>0</th>\n",
       "      <td>aphalangi hemivertebra urogenit intestin dysge...</td>\n",
       "      <td>Q87.8</td>\n",
       "      <td>Q87.8</td>\n",
       "      <td>0.73</td>\n",
       "    </tr>\n",
       "    <tr>\n",
       "      <th>0</th>\n",
       "      <td>horizont doll head reflex absent</td>\n",
       "      <td>R29.2</td>\n",
       "      <td>R29.2</td>\n",
       "      <td>0.97</td>\n",
       "    </tr>\n",
       "    <tr>\n",
       "      <th>0</th>\n",
       "      <td>infect abras right upper arm</td>\n",
       "      <td>L08.9</td>\n",
       "      <td>L08.9</td>\n",
       "      <td>0.99</td>\n",
       "    </tr>\n",
       "    <tr>\n",
       "      <th>...</th>\n",
       "      <td>...</td>\n",
       "      <td>...</td>\n",
       "      <td>...</td>\n",
       "      <td>...</td>\n",
       "    </tr>\n",
       "    <tr>\n",
       "      <th>0</th>\n",
       "      <td>orocraniodigit syndrom</td>\n",
       "      <td>Q87.0</td>\n",
       "      <td>Q87.8</td>\n",
       "      <td>0.99</td>\n",
       "    </tr>\n",
       "    <tr>\n",
       "      <th>0</th>\n",
       "      <td>tripelennamin overdos</td>\n",
       "      <td>X44.99</td>\n",
       "      <td>X44.99</td>\n",
       "      <td>0.99</td>\n",
       "    </tr>\n",
       "    <tr>\n",
       "      <th>0</th>\n",
       "      <td>subpulmonari stenosi complic procedur</td>\n",
       "      <td>T81.8</td>\n",
       "      <td>T81.8</td>\n",
       "      <td>0.59</td>\n",
       "    </tr>\n",
       "    <tr>\n",
       "      <th>0</th>\n",
       "      <td>ptosi upper ocular movement limit absenc lacri...</td>\n",
       "      <td>Q87.0</td>\n",
       "      <td>Q87.8</td>\n",
       "      <td>0.81</td>\n",
       "    </tr>\n",
       "    <tr>\n",
       "      <th>0</th>\n",
       "      <td>amacr defici</td>\n",
       "      <td>K76.8</td>\n",
       "      <td>E88.0</td>\n",
       "      <td>0.99</td>\n",
       "    </tr>\n",
       "  </tbody>\n",
       "</table>\n",
       "<p>3314 rows × 4 columns</p>\n",
       "</div>"
      ],
      "text/plain": [
       "                                                 term codeActual codePredict  \\\n",
       "0                              bidirect cardiac shunt      R09.8       R09.8   \n",
       "0                        cognit impair due lead toxic     X49.99      X49.99   \n",
       "0   aphalangi hemivertebra urogenit intestin dysge...      Q87.8       Q87.8   \n",
       "0                    horizont doll head reflex absent      R29.2       R29.2   \n",
       "0                        infect abras right upper arm      L08.9       L08.9   \n",
       "..                                                ...        ...         ...   \n",
       "0                              orocraniodigit syndrom      Q87.0       Q87.8   \n",
       "0                               tripelennamin overdos     X44.99      X44.99   \n",
       "0               subpulmonari stenosi complic procedur      T81.8       T81.8   \n",
       "0   ptosi upper ocular movement limit absenc lacri...      Q87.0       Q87.8   \n",
       "0                                        amacr defici      K76.8       E88.0   \n",
       "\n",
       "    prob  \n",
       "0   0.80  \n",
       "0   0.99  \n",
       "0   0.73  \n",
       "0   0.97  \n",
       "0   0.99  \n",
       "..   ...  \n",
       "0   0.99  \n",
       "0   0.99  \n",
       "0   0.59  \n",
       "0   0.81  \n",
       "0   0.99  \n",
       "\n",
       "[3314 rows x 4 columns]"
      ]
     },
     "execution_count": 28,
     "metadata": {},
     "output_type": "execute_result"
    }
   ],
   "source": [
    "f = open(\"test.txt\", \"r\")\n",
    "test_result = pd.DataFrame(columns=['term', 'codeActual', 'codePredict'])\n",
    "for i in f.read().split('\\n'):\n",
    "    if i == '':\n",
    "        break\n",
    "    term = i.split(' __label__')[0]\n",
    "    code = i.split(' __label__')[1]\n",
    "    temp = pd.DataFrame({'term':term,\n",
    "                         'codeActual':code,\n",
    "                         'codePredict':[model.predict(term)[0][0].strip('__label__')],\n",
    "                         'prob':[str(model.predict(term)[1][0])[:4]]})\n",
    "    test_result = pd.concat([test_result, temp])\n",
    "test_result"
   ]
  },
  {
   "cell_type": "code",
   "execution_count": 7,
   "metadata": {},
   "outputs": [],
   "source": [
    "model.save_model(\"ICD10.bin\")"
   ]
  }
 ],
 "metadata": {
  "kernelspec": {
   "display_name": "mlp",
   "language": "python",
   "name": "python3"
  },
  "language_info": {
   "codemirror_mode": {
    "name": "ipython",
    "version": 3
   },
   "file_extension": ".py",
   "mimetype": "text/x-python",
   "name": "python",
   "nbconvert_exporter": "python",
   "pygments_lexer": "ipython3",
   "version": "3.8.15"
  },
  "orig_nbformat": 4
 },
 "nbformat": 4,
 "nbformat_minor": 2
}
