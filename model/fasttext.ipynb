{
 "cells": [
  {
   "cell_type": "code",
   "execution_count": 2,
   "metadata": {},
   "outputs": [],
   "source": [
    "import fasttext\n",
    "import pandas as pd"
   ]
  },
  {
   "cell_type": "code",
   "execution_count": 3,
   "metadata": {},
   "outputs": [
    {
     "name": "stderr",
     "output_type": "stream",
     "text": [
      "Read 0M words\n",
      "Number of words:  8602\n",
      "Number of labels: 100\n",
      "Progress: 100.0% words/sec/thread:  229615 lr:  0.000000 avg.loss:  0.165958 ETA:   0h 0m 0s\n"
     ]
    }
   ],
   "source": [
    "# Define the training parameters\n",
    "lr = 0.1  # learning rate\n",
    "dim = 100  # dimension of word vectors\n",
    "epoch = 100  # number of training epochs\n",
    "min_count = 1  # minimum number of word occurrences\n",
    "\n",
    "# Train the FastText classifier\n",
    "model = fasttext.train_supervised('train.txt', lr=lr, dim=dim, epoch=epoch, minCount=min_count)"
   ]
  },
  {
   "cell_type": "code",
   "execution_count": 4,
   "metadata": {},
   "outputs": [
    {
     "name": "stdout",
     "output_type": "stream",
     "text": [
      "Test accuracy: 0.85\n"
     ]
    }
   ],
   "source": [
    "# Evaluate the model on test data\n",
    "result = model.test('test.txt')\n",
    "print(f\"Test accuracy: {result[1]:.2f}\")"
   ]
  },
  {
   "cell_type": "code",
   "execution_count": 5,
   "metadata": {},
   "outputs": [
    {
     "data": {
      "text/html": [
       "<div>\n",
       "<style scoped>\n",
       "    .dataframe tbody tr th:only-of-type {\n",
       "        vertical-align: middle;\n",
       "    }\n",
       "\n",
       "    .dataframe tbody tr th {\n",
       "        vertical-align: top;\n",
       "    }\n",
       "\n",
       "    .dataframe thead th {\n",
       "        text-align: right;\n",
       "    }\n",
       "</style>\n",
       "<table border=\"1\" class=\"dataframe\">\n",
       "  <thead>\n",
       "    <tr style=\"text-align: right;\">\n",
       "      <th></th>\n",
       "      <th>term</th>\n",
       "      <th>codeActual</th>\n",
       "      <th>codePredict</th>\n",
       "      <th>prob</th>\n",
       "    </tr>\n",
       "  </thead>\n",
       "  <tbody>\n",
       "    <tr>\n",
       "      <th>0</th>\n",
       "      <td>bidirectional cardiac shunt</td>\n",
       "      <td>R09.8</td>\n",
       "      <td>R09.8</td>\n",
       "      <td>0.99</td>\n",
       "    </tr>\n",
       "    <tr>\n",
       "      <th>0</th>\n",
       "      <td>cognitive impairment due to lead toxicity</td>\n",
       "      <td>X49.99</td>\n",
       "      <td>X49.99</td>\n",
       "      <td>0.99</td>\n",
       "    </tr>\n",
       "    <tr>\n",
       "      <th>0</th>\n",
       "      <td>aphalangy, hemivertebra, urogenital, intestina...</td>\n",
       "      <td>Q87.8</td>\n",
       "      <td>Q89.8</td>\n",
       "      <td>0.32</td>\n",
       "    </tr>\n",
       "    <tr>\n",
       "      <th>0</th>\n",
       "      <td>horizontal doll's head reflex absent</td>\n",
       "      <td>R29.2</td>\n",
       "      <td>R29.2</td>\n",
       "      <td>0.99</td>\n",
       "    </tr>\n",
       "    <tr>\n",
       "      <th>0</th>\n",
       "      <td>infected abrasion of right upper arm</td>\n",
       "      <td>L08.9</td>\n",
       "      <td>L08.9</td>\n",
       "      <td>0.99</td>\n",
       "    </tr>\n",
       "    <tr>\n",
       "      <th>...</th>\n",
       "      <td>...</td>\n",
       "      <td>...</td>\n",
       "      <td>...</td>\n",
       "      <td>...</td>\n",
       "    </tr>\n",
       "    <tr>\n",
       "      <th>0</th>\n",
       "      <td>orocraniodigital syndrome</td>\n",
       "      <td>Q87.0</td>\n",
       "      <td>Q87.8</td>\n",
       "      <td>0.98</td>\n",
       "    </tr>\n",
       "    <tr>\n",
       "      <th>0</th>\n",
       "      <td>tripelennamine overdose</td>\n",
       "      <td>X44.99</td>\n",
       "      <td>X44.99</td>\n",
       "      <td>0.99</td>\n",
       "    </tr>\n",
       "    <tr>\n",
       "      <th>0</th>\n",
       "      <td>subpulmonary stenosis as complication of proce...</td>\n",
       "      <td>T81.8</td>\n",
       "      <td>T81.8</td>\n",
       "      <td>0.99</td>\n",
       "    </tr>\n",
       "    <tr>\n",
       "      <th>0</th>\n",
       "      <td>ptosis, upper ocular movement limitation, abse...</td>\n",
       "      <td>Q87.0</td>\n",
       "      <td>Q87.8</td>\n",
       "      <td>0.62</td>\n",
       "    </tr>\n",
       "    <tr>\n",
       "      <th>0</th>\n",
       "      <td>AMACR deficiency</td>\n",
       "      <td>K76.8</td>\n",
       "      <td>E88.0</td>\n",
       "      <td>0.89</td>\n",
       "    </tr>\n",
       "  </tbody>\n",
       "</table>\n",
       "<p>3314 rows × 4 columns</p>\n",
       "</div>"
      ],
      "text/plain": [
       "                                                 term codeActual codePredict  \\\n",
       "0                         bidirectional cardiac shunt      R09.8       R09.8   \n",
       "0           cognitive impairment due to lead toxicity     X49.99      X49.99   \n",
       "0   aphalangy, hemivertebra, urogenital, intestina...      Q87.8       Q89.8   \n",
       "0                horizontal doll's head reflex absent      R29.2       R29.2   \n",
       "0                infected abrasion of right upper arm      L08.9       L08.9   \n",
       "..                                                ...        ...         ...   \n",
       "0                           orocraniodigital syndrome      Q87.0       Q87.8   \n",
       "0                             tripelennamine overdose     X44.99      X44.99   \n",
       "0   subpulmonary stenosis as complication of proce...      T81.8       T81.8   \n",
       "0   ptosis, upper ocular movement limitation, abse...      Q87.0       Q87.8   \n",
       "0                                    AMACR deficiency      K76.8       E88.0   \n",
       "\n",
       "    prob  \n",
       "0   0.99  \n",
       "0   0.99  \n",
       "0   0.32  \n",
       "0   0.99  \n",
       "0   0.99  \n",
       "..   ...  \n",
       "0   0.98  \n",
       "0   0.99  \n",
       "0   0.99  \n",
       "0   0.62  \n",
       "0   0.89  \n",
       "\n",
       "[3314 rows x 4 columns]"
      ]
     },
     "execution_count": 5,
     "metadata": {},
     "output_type": "execute_result"
    }
   ],
   "source": [
    "f = open(\"test.txt\", \"r\")\n",
    "test_result = pd.DataFrame(columns=['term', 'codeActual', 'codePredict'])\n",
    "for i in f.read().split('\\n'):\n",
    "    if i == '':\n",
    "        break\n",
    "    term = i.split(' __label__')[0]\n",
    "    code = i.split(' __label__')[1]\n",
    "    temp = pd.DataFrame({'term':term,\n",
    "                         'codeActual':code,\n",
    "                         'codePredict':[model.predict(term)[0][0].strip('__label__')],\n",
    "                         'prob':[str(model.predict(term)[1][0])[:4]]})\n",
    "    test_result = pd.concat([test_result, temp])\n",
    "test_result"
   ]
  },
  {
   "cell_type": "code",
   "execution_count": 7,
   "metadata": {},
   "outputs": [],
   "source": [
    "model.save_model(\"ICD10.bin\")"
   ]
  }
 ],
 "metadata": {
  "kernelspec": {
   "display_name": "mlp",
   "language": "python",
   "name": "python3"
  },
  "language_info": {
   "codemirror_mode": {
    "name": "ipython",
    "version": 3
   },
   "file_extension": ".py",
   "mimetype": "text/x-python",
   "name": "python",
   "nbconvert_exporter": "python",
   "pygments_lexer": "ipython3",
   "version": "3.8.15"
  },
  "orig_nbformat": 4
 },
 "nbformat": 4,
 "nbformat_minor": 2
}
